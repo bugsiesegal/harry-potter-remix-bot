{
 "cells": [
  {
   "cell_type": "code",
   "execution_count": 1,
   "metadata": {
    "scrolled": false
   },
   "outputs": [
    {
     "name": "stderr",
     "output_type": "stream",
     "text": [
      "D:\\Anaconda\\lib\\site-packages\\h5py\\__init__.py:36: FutureWarning: Conversion of the second argument of issubdtype from `float` to `np.floating` is deprecated. In future, it will be treated as `np.float64 == np.dtype(float).type`.\n",
      "  from ._conv import register_converters as _register_converters\n",
      "Using TensorFlow backend.\n"
     ]
    }
   ],
   "source": [
    "import sys\n",
    "from numpy import array\n",
    "sys.path.append('../src')\n",
    "from keras.preprocessing.text import one_hot"
   ]
  },
  {
   "cell_type": "code",
   "execution_count": 2,
   "metadata": {},
   "outputs": [],
   "source": [
    "import parameters\n",
    "from data_preprocess import loaddata, remove_impuritys, one_hot_encode, one_hot_decode"
   ]
  },
  {
   "cell_type": "code",
   "execution_count": 3,
   "metadata": {},
   "outputs": [
    {
     "data": {
      "text/plain": [
       "\"Harry Potter and the Sorcerer's Stone \\n\\nCHAPTER ONE \\n\\nTHE BOY WHO LIVED \\n\\nMr. and Mrs. Dursley, of n\""
      ]
     },
     "execution_count": 3,
     "metadata": {},
     "output_type": "execute_result"
    }
   ],
   "source": [
    "books=loaddata(parameters.datapath, 7)\n",
    "books[:100]"
   ]
  },
  {
   "cell_type": "code",
   "execution_count": 4,
   "metadata": {},
   "outputs": [
    {
     "data": {
      "text/plain": [
       "\"harry potter and the sorcerer's stone chapter one the boy who lived mr. and mrs. dursley, of number four, priv\""
      ]
     },
     "execution_count": 4,
     "metadata": {},
     "output_type": "execute_result"
    }
   ],
   "source": [
    "books=remove_impuritys(books)\n",
    "books[:110]"
   ]
  },
  {
   "cell_type": "code",
   "execution_count": 5,
   "metadata": {},
   "outputs": [
    {
     "data": {
      "text/plain": [
       "76"
      ]
     },
     "execution_count": 5,
     "metadata": {},
     "output_type": "execute_result"
    }
   ],
   "source": [
    "vocab=[]\n",
    "len(books)\n",
    "for i in list(books):\n",
    "    if i in vocab:\n",
    "        pass\n",
    "    else:\n",
    "        vocab.append(i)\n",
    "len(vocab)"
   ]
  },
  {
   "cell_type": "code",
   "execution_count": 10,
   "metadata": {},
   "outputs": [
    {
     "name": "stdout",
     "output_type": "stream",
     "text": [
      "76\n"
     ]
    },
    {
     "ename": "TypeError",
     "evalue": "unhashable type: 'numpy.ndarray'",
     "output_type": "error",
     "traceback": [
      "\u001b[1;31m---------------------------------------------------------------------------\u001b[0m",
      "\u001b[1;31mTypeError\u001b[0m                                 Traceback (most recent call last)",
      "\u001b[1;32m<ipython-input-10-8850a77774cb>\u001b[0m in \u001b[0;36m<module>\u001b[1;34m()\u001b[0m\n\u001b[1;32m----> 1\u001b[1;33m \u001b[0mbooks\u001b[0m\u001b[1;33m=\u001b[0m\u001b[0mone_hot_encode\u001b[0m\u001b[1;33m(\u001b[0m\u001b[0mbooks\u001b[0m\u001b[1;33m,\u001b[0m\u001b[0mvocab\u001b[0m\u001b[1;33m)\u001b[0m\u001b[1;33m\u001b[0m\u001b[0m\n\u001b[0m\u001b[0;32m      2\u001b[0m \u001b[0mbooks\u001b[0m\u001b[1;33m\u001b[0m\u001b[0m\n",
      "\u001b[1;32mD:\\Github\\harry-potter-remix-bot\\src\\data_preprocess.py\u001b[0m in \u001b[0;36mone_hot_encode\u001b[1;34m(books, vocab)\u001b[0m\n\u001b[0;32m     26\u001b[0m     \u001b[0mint_to_char\u001b[0m \u001b[1;33m=\u001b[0m \u001b[0mdict\u001b[0m\u001b[1;33m(\u001b[0m\u001b[1;33m(\u001b[0m\u001b[0mi\u001b[0m\u001b[1;33m,\u001b[0m \u001b[0mc\u001b[0m\u001b[1;33m)\u001b[0m \u001b[1;32mfor\u001b[0m \u001b[0mi\u001b[0m\u001b[1;33m,\u001b[0m \u001b[0mc\u001b[0m \u001b[1;32min\u001b[0m \u001b[0menumerate\u001b[0m\u001b[1;33m(\u001b[0m\u001b[0malphabet\u001b[0m\u001b[1;33m)\u001b[0m\u001b[1;33m)\u001b[0m\u001b[1;33m\u001b[0m\u001b[0m\n\u001b[0;32m     27\u001b[0m     \u001b[1;31m# integer encode input data\u001b[0m\u001b[1;33m\u001b[0m\u001b[1;33m\u001b[0m\u001b[0m\n\u001b[1;32m---> 28\u001b[1;33m     \u001b[0minteger_encoded\u001b[0m \u001b[1;33m=\u001b[0m \u001b[1;33m[\u001b[0m\u001b[0mchar_to_int\u001b[0m\u001b[1;33m[\u001b[0m\u001b[0mchar\u001b[0m\u001b[1;33m]\u001b[0m \u001b[1;32mfor\u001b[0m \u001b[0mchar\u001b[0m \u001b[1;32min\u001b[0m \u001b[0mdata\u001b[0m\u001b[1;33m]\u001b[0m\u001b[1;33m\u001b[0m\u001b[0m\n\u001b[0m\u001b[0;32m     29\u001b[0m     \u001b[1;31m# define example\u001b[0m\u001b[1;33m\u001b[0m\u001b[1;33m\u001b[0m\u001b[0m\n\u001b[0;32m     30\u001b[0m     \u001b[0mdata\u001b[0m \u001b[1;33m=\u001b[0m \u001b[0minteger_encoded\u001b[0m\u001b[1;33m\u001b[0m\u001b[0m\n",
      "\u001b[1;32mD:\\Github\\harry-potter-remix-bot\\src\\data_preprocess.py\u001b[0m in \u001b[0;36m<listcomp>\u001b[1;34m(.0)\u001b[0m\n\u001b[0;32m     26\u001b[0m     \u001b[0mint_to_char\u001b[0m \u001b[1;33m=\u001b[0m \u001b[0mdict\u001b[0m\u001b[1;33m(\u001b[0m\u001b[1;33m(\u001b[0m\u001b[0mi\u001b[0m\u001b[1;33m,\u001b[0m \u001b[0mc\u001b[0m\u001b[1;33m)\u001b[0m \u001b[1;32mfor\u001b[0m \u001b[0mi\u001b[0m\u001b[1;33m,\u001b[0m \u001b[0mc\u001b[0m \u001b[1;32min\u001b[0m \u001b[0menumerate\u001b[0m\u001b[1;33m(\u001b[0m\u001b[0malphabet\u001b[0m\u001b[1;33m)\u001b[0m\u001b[1;33m)\u001b[0m\u001b[1;33m\u001b[0m\u001b[0m\n\u001b[0;32m     27\u001b[0m     \u001b[1;31m# integer encode input data\u001b[0m\u001b[1;33m\u001b[0m\u001b[1;33m\u001b[0m\u001b[0m\n\u001b[1;32m---> 28\u001b[1;33m     \u001b[0minteger_encoded\u001b[0m \u001b[1;33m=\u001b[0m \u001b[1;33m[\u001b[0m\u001b[0mchar_to_int\u001b[0m\u001b[1;33m[\u001b[0m\u001b[0mchar\u001b[0m\u001b[1;33m]\u001b[0m \u001b[1;32mfor\u001b[0m \u001b[0mchar\u001b[0m \u001b[1;32min\u001b[0m \u001b[0mdata\u001b[0m\u001b[1;33m]\u001b[0m\u001b[1;33m\u001b[0m\u001b[0m\n\u001b[0m\u001b[0;32m     29\u001b[0m     \u001b[1;31m# define example\u001b[0m\u001b[1;33m\u001b[0m\u001b[1;33m\u001b[0m\u001b[0m\n\u001b[0;32m     30\u001b[0m     \u001b[0mdata\u001b[0m \u001b[1;33m=\u001b[0m \u001b[0minteger_encoded\u001b[0m\u001b[1;33m\u001b[0m\u001b[0m\n",
      "\u001b[1;31mTypeError\u001b[0m: unhashable type: 'numpy.ndarray'"
     ]
    }
   ],
   "source": [
    "books=one_hot_encode(books,vocab)\n",
    "books"
   ]
  },
  {
   "cell_type": "code",
   "execution_count": 12,
   "metadata": {},
   "outputs": [
    {
     "ename": "MemoryError",
     "evalue": "",
     "output_type": "error",
     "traceback": [
      "\u001b[1;31m---------------------------------------------------------------------------\u001b[0m",
      "\u001b[1;31mMemoryError\u001b[0m                               Traceback (most recent call last)",
      "\u001b[1;32m<ipython-input-12-f8a5f1ce8bf3>\u001b[0m in \u001b[0;36m<module>\u001b[1;34m()\u001b[0m\n\u001b[0;32m      4\u001b[0m     \u001b[0mx\u001b[0m\u001b[1;33m.\u001b[0m\u001b[0mappend\u001b[0m\u001b[1;33m(\u001b[0m\u001b[0mbooks\u001b[0m\u001b[1;33m[\u001b[0m\u001b[0mi\u001b[0m\u001b[1;33m:\u001b[0m\u001b[0mi\u001b[0m\u001b[1;33m+\u001b[0m\u001b[1;36m100\u001b[0m\u001b[1;33m]\u001b[0m\u001b[1;33m)\u001b[0m\u001b[1;33m\u001b[0m\u001b[0m\n\u001b[0;32m      5\u001b[0m     \u001b[0my\u001b[0m\u001b[1;33m.\u001b[0m\u001b[0mappend\u001b[0m\u001b[1;33m(\u001b[0m\u001b[0mbooks\u001b[0m\u001b[1;33m[\u001b[0m\u001b[0mi\u001b[0m\u001b[1;33m+\u001b[0m\u001b[1;36m101\u001b[0m\u001b[1;33m]\u001b[0m\u001b[1;33m)\u001b[0m\u001b[1;33m\u001b[0m\u001b[0m\n\u001b[1;32m----> 6\u001b[1;33m \u001b[0mx\u001b[0m\u001b[1;33m=\u001b[0m\u001b[0marray\u001b[0m\u001b[1;33m(\u001b[0m\u001b[0mx\u001b[0m\u001b[1;33m)\u001b[0m\u001b[1;33m\u001b[0m\u001b[0m\n\u001b[0m\u001b[0;32m      7\u001b[0m \u001b[0my\u001b[0m\u001b[1;33m=\u001b[0m\u001b[0marray\u001b[0m\u001b[1;33m(\u001b[0m\u001b[0my\u001b[0m\u001b[1;33m)\u001b[0m\u001b[1;33m\u001b[0m\u001b[0m\n\u001b[0;32m      8\u001b[0m \u001b[0mprint\u001b[0m\u001b[1;33m(\u001b[0m\u001b[0mx\u001b[0m\u001b[1;33m.\u001b[0m\u001b[0mshape\u001b[0m\u001b[1;33m)\u001b[0m\u001b[1;33m\u001b[0m\u001b[0m\n",
      "\u001b[1;31mMemoryError\u001b[0m: "
     ]
    }
   ],
   "source": [
    "x=[]\n",
    "y=[]\n",
    "for i in range(len(books[:-101])):\n",
    "    x.append(books[i:i+100])\n",
    "    y.append(books[i+101])\n",
    "x=array(x)\n",
    "y=array(y)\n",
    "print(x.shape)\n",
    "print(y.shape)\n"
   ]
  },
  {
   "cell_type": "code",
   "execution_count": null,
   "metadata": {
    "scrolled": true
   },
   "outputs": [],
   "source": [
    "y"
   ]
  },
  {
   "cell_type": "code",
   "execution_count": null,
   "metadata": {},
   "outputs": [],
   "source": [
    "x[0].shape"
   ]
  },
  {
   "cell_type": "code",
   "execution_count": null,
   "metadata": {},
   "outputs": [],
   "source": [
    "from keras.models import Sequential\n",
    "from keras.layers import *\n",
    "\n",
    "# define the LSTM model\n",
    "model = Sequential()\n",
    "model.add(LSTM(256, input_shape=x[0].shape,return_sequences=True))\n",
    "model.add(LSTM(256,return_sequences=True))\n",
    "model.add(LSTM(256,return_sequences=True))\n",
    "model.add(LSTM(256,return_sequences=True))\n",
    "model.add(LSTM(256))\n",
    "model.add(Dropout(0.4))\n",
    "model.add(Dense(128))\n",
    "model.add(Dense(64))\n",
    "model.add(Dense(len(vocab), activation='softmax'))\n",
    "model.compile(loss='categorical_crossentropy', optimizer='adam')\n",
    "model.summary()"
   ]
  },
  {
   "cell_type": "code",
   "execution_count": null,
   "metadata": {},
   "outputs": [],
   "source": [
    "x_train=x[:int(len(x)*0.8)]\n",
    "y_train=y[:int(len(y)*0.8)]\n",
    "x_test=x[int(len(x)*0.8):]\n",
    "y_test=y[int(len(y)*0.8):]"
   ]
  },
  {
   "cell_type": "code",
   "execution_count": null,
   "metadata": {},
   "outputs": [],
   "source": [
    "model.fit(x_train, y_train, epochs=15, batch_size=125)"
   ]
  },
  {
   "cell_type": "code",
   "execution_count": null,
   "metadata": {
    "scrolled": true
   },
   "outputs": [],
   "source": [
    "model.evaluate(x_test, y_test, batch_size=125)"
   ]
  },
  {
   "cell_type": "code",
   "execution_count": null,
   "metadata": {},
   "outputs": [],
   "source": [
    "one_hot_encode(\"arry \",vocab).shape"
   ]
  },
  {
   "cell_type": "code",
   "execution_count": null,
   "metadata": {
    "scrolled": true
   },
   "outputs": [],
   "source": [
    "# print(one_hot_decode(model.predict(one_hot_encode(\"harry pott\",vocab).reshape(1,10,53)),vocab))\n",
    "sent=\"harry potter and the sorcerer's stone chapter one the boy who lived mr. and mrs. dursley, of number \"\n",
    "story=\"harry potter and the sorcerer's stone chapter one the boy who lived mr. and mrs. dursley, of number \"\n",
    "for i in range(100):\n",
    "    pred=one_hot_decode(model.predict(one_hot_encode(sent,vocab).reshape(1,100,53)),vocab)\n",
    "    sent=sent+pred\n",
    "    story=story+pred\n",
    "    print(sent)\n",
    "    sent=sent[1:]\n",
    "print(story)"
   ]
  },
  {
   "cell_type": "code",
   "execution_count": null,
   "metadata": {},
   "outputs": [],
   "source": [
    "model.fit(x_train, y_train, epochs=5, batch_size=125)"
   ]
  },
  {
   "cell_type": "code",
   "execution_count": null,
   "metadata": {},
   "outputs": [],
   "source": [
    "model.evaluate(x_test, y_test, batch_size=125)"
   ]
  },
  {
   "cell_type": "code",
   "execution_count": 8,
   "metadata": {},
   "outputs": [
    {
     "ename": "NameError",
     "evalue": "name 'model' is not defined",
     "output_type": "error",
     "traceback": [
      "\u001b[1;31m---------------------------------------------------------------------------\u001b[0m",
      "\u001b[1;31mNameError\u001b[0m                                 Traceback (most recent call last)",
      "\u001b[1;32m<ipython-input-8-79521ef6ef7c>\u001b[0m in \u001b[0;36m<module>\u001b[1;34m()\u001b[0m\n\u001b[0;32m      3\u001b[0m \u001b[0mstory\u001b[0m\u001b[1;33m=\u001b[0m\u001b[1;34m\"harry potter and the sorcerer's stone chapter one the boy who lived mr. and mrs. dursley, of number \"\u001b[0m\u001b[1;33m\u001b[0m\u001b[0m\n\u001b[0;32m      4\u001b[0m \u001b[1;32mfor\u001b[0m \u001b[0mi\u001b[0m \u001b[1;32min\u001b[0m \u001b[0mrange\u001b[0m\u001b[1;33m(\u001b[0m\u001b[1;36m100\u001b[0m\u001b[1;33m)\u001b[0m\u001b[1;33m:\u001b[0m\u001b[1;33m\u001b[0m\u001b[0m\n\u001b[1;32m----> 5\u001b[1;33m     \u001b[0mpred\u001b[0m\u001b[1;33m=\u001b[0m\u001b[0mone_hot_decode\u001b[0m\u001b[1;33m(\u001b[0m\u001b[0mmodel\u001b[0m\u001b[1;33m.\u001b[0m\u001b[0mpredict\u001b[0m\u001b[1;33m(\u001b[0m\u001b[0mone_hot_encode\u001b[0m\u001b[1;33m(\u001b[0m\u001b[0msent\u001b[0m\u001b[1;33m,\u001b[0m\u001b[0mvocab\u001b[0m\u001b[1;33m)\u001b[0m\u001b[1;33m.\u001b[0m\u001b[0mreshape\u001b[0m\u001b[1;33m(\u001b[0m\u001b[1;36m1\u001b[0m\u001b[1;33m,\u001b[0m\u001b[1;36m100\u001b[0m\u001b[1;33m,\u001b[0m\u001b[1;36m53\u001b[0m\u001b[1;33m)\u001b[0m\u001b[1;33m)\u001b[0m\u001b[1;33m,\u001b[0m\u001b[0mvocab\u001b[0m\u001b[1;33m)\u001b[0m\u001b[1;33m\u001b[0m\u001b[0m\n\u001b[0m\u001b[0;32m      6\u001b[0m     \u001b[0msent\u001b[0m\u001b[1;33m=\u001b[0m\u001b[0msent\u001b[0m\u001b[1;33m+\u001b[0m\u001b[0mpred\u001b[0m\u001b[1;33m\u001b[0m\u001b[0m\n\u001b[0;32m      7\u001b[0m     \u001b[0mstory\u001b[0m\u001b[1;33m=\u001b[0m\u001b[0mstory\u001b[0m\u001b[1;33m+\u001b[0m\u001b[0mpred\u001b[0m\u001b[1;33m\u001b[0m\u001b[0m\n",
      "\u001b[1;31mNameError\u001b[0m: name 'model' is not defined"
     ]
    }
   ],
   "source": [
    "# print(one_hot_decode(model.predict(one_hot_encode(\"harry pott\",vocab).reshape(1,10,53)),vocab))\n",
    "sent=\"harry potter and the sorcerer's stone chapter one the boy who lived mr. and mrs. dursley, of number \"\n",
    "story=\"harry potter and the sorcerer's stone chapter one the boy who lived mr. and mrs. dursley, of number \"\n",
    "for i in range(100):\n",
    "    pred=one_hot_decode(model.predict(one_hot_encode(sent,vocab).reshape(1,100,53)),vocab)\n",
    "    sent=sent+pred\n",
    "    story=story+pred\n",
    "    print(sent)\n",
    "    sent=sent[1:]\n",
    "print(story)"
   ]
  },
  {
   "cell_type": "code",
   "execution_count": 18,
   "metadata": {},
   "outputs": [
    {
     "name": "stdout",
     "output_type": "stream",
     "text": [
      "Epoch 1/15\n",
      "349263/349263 [==============================] - 2337s 7ms/step - loss: 1.4233\n",
      "Epoch 2/15\n",
      "349263/349263 [==============================] - 2288s 7ms/step - loss: 1.3552\n",
      "Epoch 3/15\n",
      "349263/349263 [==============================] - 2285s 7ms/step - loss: 1.2917\n",
      "Epoch 4/15\n",
      "349263/349263 [==============================] - 2289s 7ms/step - loss: 1.2316\n",
      "Epoch 5/15\n",
      "349263/349263 [==============================] - 2289s 7ms/step - loss: 1.1778\n",
      "Epoch 6/15\n",
      "349263/349263 [==============================] - 2305s 7ms/step - loss: 1.1280\n",
      "Epoch 7/15\n",
      "349263/349263 [==============================] - 2301s 7ms/step - loss: 1.0787\n",
      "Epoch 8/15\n",
      "349263/349263 [==============================] - 2283s 7ms/step - loss: 1.0369\n",
      "Epoch 9/15\n",
      "349263/349263 [==============================] - 2286s 7ms/step - loss: 0.9967\n",
      "Epoch 10/15\n",
      "349263/349263 [==============================] - 2288s 7ms/step - loss: 0.9629\n",
      "Epoch 11/15\n",
      "349263/349263 [==============================] - 2275s 7ms/step - loss: 0.9263\n",
      "Epoch 12/15\n",
      "349263/349263 [==============================] - 2281s 7ms/step - loss: 0.8949\n",
      "Epoch 13/15\n",
      "349263/349263 [==============================] - 2287s 7ms/step - loss: 0.8638\n",
      "Epoch 14/15\n",
      "349263/349263 [==============================] - 3001s 9ms/step - loss: 0.8399\n",
      "Epoch 15/15\n",
      "349263/349263 [==============================] - 3594s 10ms/step - loss: 0.8158\n"
     ]
    },
    {
     "data": {
      "text/plain": [
       "<keras.callbacks.History at 0x1f1619dcc18>"
      ]
     },
     "execution_count": 18,
     "metadata": {},
     "output_type": "execute_result"
    }
   ],
   "source": [
    "model.fit(x_train, y_train, epochs=1, batch_size=125, validation_split=0.1)"
   ]
  },
  {
   "cell_type": "code",
   "execution_count": 19,
   "metadata": {},
   "outputs": [
    {
     "name": "stdout",
     "output_type": "stream",
     "text": [
      "87316/87316 [==============================] - 245s 3ms/step\n"
     ]
    },
    {
     "data": {
      "text/plain": [
       "2.8912092087479517"
      ]
     },
     "execution_count": 19,
     "metadata": {},
     "output_type": "execute_result"
    }
   ],
   "source": [
    "model.evaluate(x_test, y_test, batch_size=125)"
   ]
  },
  {
   "cell_type": "code",
   "execution_count": 20,
   "metadata": {
    "scrolled": true
   },
   "outputs": [
    {
     "name": "stdout",
     "output_type": "stream",
     "text": [
      "53\n",
      "harry potter and the sorcerer's stone chapter one the boy who lived mr. and mrs. dursley, of number o\n",
      "53\n",
      "arry potter and the sorcerer's stone chapter one the boy who lived mr. and mrs. dursley, of number o \n",
      "53\n",
      "rry potter and the sorcerer's stone chapter one the boy who lived mr. and mrs. dursley, of number o n\n",
      "53\n",
      "ry potter and the sorcerer's stone chapter one the boy who lived mr. and mrs. dursley, of number o na\n",
      "53\n",
      "y potter and the sorcerer's stone chapter one the boy who lived mr. and mrs. dursley, of number o na,\n",
      "53\n",
      " potter and the sorcerer's stone chapter one the boy who lived mr. and mrs. dursley, of number o na,h\n",
      "53\n",
      "potter and the sorcerer's stone chapter one the boy who lived mr. and mrs. dursley, of number o na,h \n",
      "53\n",
      "otter and the sorcerer's stone chapter one the boy who lived mr. and mrs. dursley, of number o na,h o\n",
      "53\n",
      "tter and the sorcerer's stone chapter one the boy who lived mr. and mrs. dursley, of number o na,h ol\n",
      "53\n",
      "ter and the sorcerer's stone chapter one the boy who lived mr. and mrs. dursley, of number o na,h ol \n",
      "53\n",
      "er and the sorcerer's stone chapter one the boy who lived mr. and mrs. dursley, of number o na,h ol -\n",
      "53\n",
      "r and the sorcerer's stone chapter one the boy who lived mr. and mrs. dursley, of number o na,h ol - \n",
      "53\n",
      " and the sorcerer's stone chapter one the boy who lived mr. and mrs. dursley, of number o na,h ol - o\n",
      "53\n",
      "and the sorcerer's stone chapter one the boy who lived mr. and mrs. dursley, of number o na,h ol - ol\n",
      "53\n",
      "nd the sorcerer's stone chapter one the boy who lived mr. and mrs. dursley, of number o na,h ol - ol \n",
      "53\n",
      "d the sorcerer's stone chapter one the boy who lived mr. and mrs. dursley, of number o na,h ol - ol e\n",
      "53\n",
      " the sorcerer's stone chapter one the boy who lived mr. and mrs. dursley, of number o na,h ol - ol ee\n",
      "53\n",
      "the sorcerer's stone chapter one the boy who lived mr. and mrs. dursley, of number o na,h ol - ol ee \n",
      "53\n",
      "he sorcerer's stone chapter one the boy who lived mr. and mrs. dursley, of number o na,h ol - ol ee e\n",
      "53\n",
      "e sorcerer's stone chapter one the boy who lived mr. and mrs. dursley, of number o na,h ol - ol ee ee\n",
      "53\n",
      " sorcerer's stone chapter one the boy who lived mr. and mrs. dursley, of number o na,h ol - ol ee eel\n",
      "53\n",
      "sorcerer's stone chapter one the boy who lived mr. and mrs. dursley, of number o na,h ol - ol ee eel \n",
      "53\n",
      "orcerer's stone chapter one the boy who lived mr. and mrs. dursley, of number o na,h ol - ol ee eel e\n",
      "53\n",
      "rcerer's stone chapter one the boy who lived mr. and mrs. dursley, of number o na,h ol - ol ee eel ee\n",
      "53\n",
      "cerer's stone chapter one the boy who lived mr. and mrs. dursley, of number o na,h ol - ol ee eel eee\n",
      "53\n",
      "erer's stone chapter one the boy who lived mr. and mrs. dursley, of number o na,h ol - ol ee eel eee \n",
      "53\n",
      "rer's stone chapter one the boy who lived mr. and mrs. dursley, of number o na,h ol - ol ee eel eee i\n",
      "53\n",
      "er's stone chapter one the boy who lived mr. and mrs. dursley, of number o na,h ol - ol ee eel eee i \n",
      "53\n",
      "r's stone chapter one the boy who lived mr. and mrs. dursley, of number o na,h ol - ol ee eel eee i h\n",
      "53\n",
      "'s stone chapter one the boy who lived mr. and mrs. dursley, of number o na,h ol - ol ee eel eee i hg\n",
      "53\n",
      "s stone chapter one the boy who lived mr. and mrs. dursley, of number o na,h ol - ol ee eel eee i hgr\n",
      "53\n",
      " stone chapter one the boy who lived mr. and mrs. dursley, of number o na,h ol - ol ee eel eee i hgr \n",
      "53\n",
      "stone chapter one the boy who lived mr. and mrs. dursley, of number o na,h ol - ol ee eel eee i hgr e\n",
      "53\n",
      "tone chapter one the boy who lived mr. and mrs. dursley, of number o na,h ol - ol ee eel eee i hgr ee\n",
      "53\n",
      "one chapter one the boy who lived mr. and mrs. dursley, of number o na,h ol - ol ee eel eee i hgr ee \n",
      "53\n",
      "ne chapter one the boy who lived mr. and mrs. dursley, of number o na,h ol - ol ee eel eee i hgr ee i\n",
      "53\n",
      "e chapter one the boy who lived mr. and mrs. dursley, of number o na,h ol - ol ee eel eee i hgr ee i \n",
      "53\n",
      " chapter one the boy who lived mr. and mrs. dursley, of number o na,h ol - ol ee eel eee i hgr ee i o\n",
      "53\n",
      "chapter one the boy who lived mr. and mrs. dursley, of number o na,h ol - ol ee eel eee i hgr ee i oe\n",
      "53\n",
      "hapter one the boy who lived mr. and mrs. dursley, of number o na,h ol - ol ee eel eee i hgr ee i oey\n",
      "53\n",
      "apter one the boy who lived mr. and mrs. dursley, of number o na,h ol - ol ee eel eee i hgr ee i oeyr\n",
      "53\n",
      "pter one the boy who lived mr. and mrs. dursley, of number o na,h ol - ol ee eel eee i hgr ee i oeyrs\n",
      "53\n",
      "ter one the boy who lived mr. and mrs. dursley, of number o na,h ol - ol ee eel eee i hgr ee i oeyrs \n",
      "53\n",
      "er one the boy who lived mr. and mrs. dursley, of number o na,h ol - ol ee eel eee i hgr ee i oeyrs o\n",
      "53\n",
      "r one the boy who lived mr. and mrs. dursley, of number o na,h ol - ol ee eel eee i hgr ee i oeyrs o \n",
      "53\n",
      " one the boy who lived mr. and mrs. dursley, of number o na,h ol - ol ee eel eee i hgr ee i oeyrs o h\n",
      "53\n",
      "one the boy who lived mr. and mrs. dursley, of number o na,h ol - ol ee eel eee i hgr ee i oeyrs o hr\n",
      "53\n",
      "ne the boy who lived mr. and mrs. dursley, of number o na,h ol - ol ee eel eee i hgr ee i oeyrs o hrw\n",
      "53\n",
      "e the boy who lived mr. and mrs. dursley, of number o na,h ol - ol ee eel eee i hgr ee i oeyrs o hrwi\n",
      "53\n",
      " the boy who lived mr. and mrs. dursley, of number o na,h ol - ol ee eel eee i hgr ee i oeyrs o hrwik\n",
      "53\n",
      "the boy who lived mr. and mrs. dursley, of number o na,h ol - ol ee eel eee i hgr ee i oeyrs o hrwik \n",
      "53\n",
      "he boy who lived mr. and mrs. dursley, of number o na,h ol - ol ee eel eee i hgr ee i oeyrs o hrwik n\n",
      "53\n",
      "e boy who lived mr. and mrs. dursley, of number o na,h ol - ol ee eel eee i hgr ee i oeyrs o hrwik nn\n",
      "53\n",
      " boy who lived mr. and mrs. dursley, of number o na,h ol - ol ee eel eee i hgr ee i oeyrs o hrwik nnd\n",
      "53\n",
      "boy who lived mr. and mrs. dursley, of number o na,h ol - ol ee eel eee i hgr ee i oeyrs o hrwik nndo\n",
      "53\n",
      "oy who lived mr. and mrs. dursley, of number o na,h ol - ol ee eel eee i hgr ee i oeyrs o hrwik nndo.\n",
      "53\n",
      "y who lived mr. and mrs. dursley, of number o na,h ol - ol ee eel eee i hgr ee i oeyrs o hrwik nndo. \n",
      "53\n",
      " who lived mr. and mrs. dursley, of number o na,h ol - ol ee eel eee i hgr ee i oeyrs o hrwik nndo. i\n",
      "53\n",
      "who lived mr. and mrs. dursley, of number o na,h ol - ol ee eel eee i hgr ee i oeyrs o hrwik nndo. i \n",
      "53\n",
      "ho lived mr. and mrs. dursley, of number o na,h ol - ol ee eel eee i hgr ee i oeyrs o hrwik nndo. i a\n",
      "53\n",
      "o lived mr. and mrs. dursley, of number o na,h ol - ol ee eel eee i hgr ee i oeyrs o hrwik nndo. i ad\n",
      "53\n",
      " lived mr. and mrs. dursley, of number o na,h ol - ol ee eel eee i hgr ee i oeyrs o hrwik nndo. i ad \n",
      "53\n",
      "lived mr. and mrs. dursley, of number o na,h ol - ol ee eel eee i hgr ee i oeyrs o hrwik nndo. i ad n\n",
      "53\n",
      "ived mr. and mrs. dursley, of number o na,h ol - ol ee eel eee i hgr ee i oeyrs o hrwik nndo. i ad n \n",
      "53\n",
      "ved mr. and mrs. dursley, of number o na,h ol - ol ee eel eee i hgr ee i oeyrs o hrwik nndo. i ad n e\n",
      "53\n",
      "ed mr. and mrs. dursley, of number o na,h ol - ol ee eel eee i hgr ee i oeyrs o hrwik nndo. i ad n ee\n",
      "53\n",
      "d mr. and mrs. dursley, of number o na,h ol - ol ee eel eee i hgr ee i oeyrs o hrwik nndo. i ad n eel\n",
      "53\n",
      " mr. and mrs. dursley, of number o na,h ol - ol ee eel eee i hgr ee i oeyrs o hrwik nndo. i ad n eel \n",
      "53\n",
      "mr. and mrs. dursley, of number o na,h ol - ol ee eel eee i hgr ee i oeyrs o hrwik nndo. i ad n eel i\n",
      "53\n",
      "r. and mrs. dursley, of number o na,h ol - ol ee eel eee i hgr ee i oeyrs o hrwik nndo. i ad n eel i \n",
      "53\n",
      ". and mrs. dursley, of number o na,h ol - ol ee eel eee i hgr ee i oeyrs o hrwik nndo. i ad n eel i v\n",
      "53\n",
      " and mrs. dursley, of number o na,h ol - ol ee eel eee i hgr ee i oeyrs o hrwik nndo. i ad n eel i vr\n",
      "53\n",
      "and mrs. dursley, of number o na,h ol - ol ee eel eee i hgr ee i oeyrs o hrwik nndo. i ad n eel i vrm\n",
      "53\n",
      "nd mrs. dursley, of number o na,h ol - ol ee eel eee i hgr ee i oeyrs o hrwik nndo. i ad n eel i vrml\n",
      "53\n",
      "d mrs. dursley, of number o na,h ol - ol ee eel eee i hgr ee i oeyrs o hrwik nndo. i ad n eel i vrmle\n",
      "53\n",
      " mrs. dursley, of number o na,h ol - ol ee eel eee i hgr ee i oeyrs o hrwik nndo. i ad n eel i vrmle \n",
      "53\n",
      "mrs. dursley, of number o na,h ol - ol ee eel eee i hgr ee i oeyrs o hrwik nndo. i ad n eel i vrmle o\n",
      "53\n",
      "rs. dursley, of number o na,h ol - ol ee eel eee i hgr ee i oeyrs o hrwik nndo. i ad n eel i vrmle o \n",
      "53\n"
     ]
    },
    {
     "name": "stdout",
     "output_type": "stream",
     "text": [
      "s. dursley, of number o na,h ol - ol ee eel eee i hgr ee i oeyrs o hrwik nndo. i ad n eel i vrmle o i\n",
      "53\n",
      ". dursley, of number o na,h ol - ol ee eel eee i hgr ee i oeyrs o hrwik nndo. i ad n eel i vrmle o i \n",
      "53\n",
      " dursley, of number o na,h ol - ol ee eel eee i hgr ee i oeyrs o hrwik nndo. i ad n eel i vrmle o i o\n",
      "53\n",
      "dursley, of number o na,h ol - ol ee eel eee i hgr ee i oeyrs o hrwik nndo. i ad n eel i vrmle o i ol\n",
      "53\n",
      "ursley, of number o na,h ol - ol ee eel eee i hgr ee i oeyrs o hrwik nndo. i ad n eel i vrmle o i ole\n",
      "53\n",
      "rsley, of number o na,h ol - ol ee eel eee i hgr ee i oeyrs o hrwik nndo. i ad n eel i vrmle o i olew\n",
      "53\n",
      "sley, of number o na,h ol - ol ee eel eee i hgr ee i oeyrs o hrwik nndo. i ad n eel i vrmle o i olewl\n",
      "53\n",
      "ley, of number o na,h ol - ol ee eel eee i hgr ee i oeyrs o hrwik nndo. i ad n eel i vrmle o i olewl \n",
      "53\n",
      "ey, of number o na,h ol - ol ee eel eee i hgr ee i oeyrs o hrwik nndo. i ad n eel i vrmle o i olewl e\n",
      "53\n",
      "y, of number o na,h ol - ol ee eel eee i hgr ee i oeyrs o hrwik nndo. i ad n eel i vrmle o i olewl ee\n",
      "53\n",
      ", of number o na,h ol - ol ee eel eee i hgr ee i oeyrs o hrwik nndo. i ad n eel i vrmle o i olewl ees\n",
      "53\n",
      " of number o na,h ol - ol ee eel eee i hgr ee i oeyrs o hrwik nndo. i ad n eel i vrmle o i olewl ees \n",
      "53\n",
      "of number o na,h ol - ol ee eel eee i hgr ee i oeyrs o hrwik nndo. i ad n eel i vrmle o i olewl ees e\n",
      "53\n",
      "f number o na,h ol - ol ee eel eee i hgr ee i oeyrs o hrwik nndo. i ad n eel i vrmle o i olewl ees ee\n",
      "53\n",
      " number o na,h ol - ol ee eel eee i hgr ee i oeyrs o hrwik nndo. i ad n eel i vrmle o i olewl ees eeh\n",
      "53\n",
      "number o na,h ol - ol ee eel eee i hgr ee i oeyrs o hrwik nndo. i ad n eel i vrmle o i olewl ees eeh,\n",
      "53\n",
      "umber o na,h ol - ol ee eel eee i hgr ee i oeyrs o hrwik nndo. i ad n eel i vrmle o i olewl ees eeh,p\n",
      "53\n",
      "mber o na,h ol - ol ee eel eee i hgr ee i oeyrs o hrwik nndo. i ad n eel i vrmle o i olewl ees eeh,pe\n",
      "53\n",
      "ber o na,h ol - ol ee eel eee i hgr ee i oeyrs o hrwik nndo. i ad n eel i vrmle o i olewl ees eeh,pe \n",
      "53\n",
      "er o na,h ol - ol ee eel eee i hgr ee i oeyrs o hrwik nndo. i ad n eel i vrmle o i olewl ees eeh,pe o\n",
      "53\n",
      "r o na,h ol - ol ee eel eee i hgr ee i oeyrs o hrwik nndo. i ad n eel i vrmle o i olewl ees eeh,pe o \n",
      "53\n",
      " o na,h ol - ol ee eel eee i hgr ee i oeyrs o hrwik nndo. i ad n eel i vrmle o i olewl ees eeh,pe o g\n",
      "harry potter and the sorcerer's stone chapter one the boy who lived mr. and mrs. dursley, of number o na,h ol - ol ee eel eee i hgr ee i oeyrs o hrwik nndo. i ad n eel i vrmle o i olewl ees eeh,pe o g\n"
     ]
    }
   ],
   "source": [
    "# print(one_hot_decode(model.predict(one_hot_encode(\"harry pott\",vocab).reshape(1,10,53)),vocab))\n",
    "sent=\"harry potter and the sorcerer's stone chapter one the boy who lived mr. and mrs. dursley, of number \"\n",
    "story=\"harry potter and the sorcerer's stone chapter one the boy who lived mr. and mrs. dursley, of number \"\n",
    "for i in range(100):\n",
    "    pred=one_hot_decode(model.predict(one_hot_encode(sent,vocab).reshape(1,100,53)),vocab)\n",
    "    sent=sent+pred\n",
    "    story=story+pred\n",
    "    print(sent)\n",
    "    sent=sent[1:]\n",
    "print(story)"
   ]
  },
  {
   "cell_type": "code",
   "execution_count": null,
   "metadata": {},
   "outputs": [],
   "source": []
  }
 ],
 "metadata": {
  "kernelspec": {
   "display_name": "Python 3",
   "language": "python",
   "name": "python3"
  },
  "language_info": {
   "codemirror_mode": {
    "name": "ipython",
    "version": 3
   },
   "file_extension": ".py",
   "mimetype": "text/x-python",
   "name": "python",
   "nbconvert_exporter": "python",
   "pygments_lexer": "ipython3",
   "version": "3.6.5"
  }
 },
 "nbformat": 4,
 "nbformat_minor": 2
}
