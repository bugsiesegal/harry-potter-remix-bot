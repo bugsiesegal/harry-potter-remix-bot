{
 "cells": [
  {
   "cell_type": "code",
   "execution_count": 1,
   "metadata": {
    "scrolled": false
   },
   "outputs": [
    {
     "name": "stderr",
     "output_type": "stream",
     "text": [
      "D:\\Anaconda\\lib\\site-packages\\h5py\\__init__.py:36: FutureWarning: Conversion of the second argument of issubdtype from `float` to `np.floating` is deprecated. In future, it will be treated as `np.float64 == np.dtype(float).type`.\n",
      "  from ._conv import register_converters as _register_converters\n",
      "Using TensorFlow backend.\n"
     ]
    }
   ],
   "source": [
    "import sys\n",
    "from numpy import array\n",
    "import numpy as np\n",
    "import pandas as pd\n",
    "from keras.models import Sequential\n",
    "from keras.layers import Dense\n",
    "from keras.layers import Dropout\n",
    "from keras.layers import LSTM\n",
    "from keras.utils import np_utils\n",
    "sys.path.append('../src')\n",
    "from keras.preprocessing.text import one_hot\n",
    "from keras.models import load_model"
   ]
  },
  {
   "cell_type": "code",
   "execution_count": 2,
   "metadata": {},
   "outputs": [],
   "source": [
    "import parameters\n",
    "from data_preprocess import loaddata, remove_impuritys, one_hot_encode, one_hot_decode, number_encode, predict_text"
   ]
  },
  {
   "cell_type": "code",
   "execution_count": 3,
   "metadata": {},
   "outputs": [
    {
     "data": {
      "text/plain": [
       "\"Harry Potter and the Sorcerer's Stone \\n\\nCHAPTER ONE \\n\\nTHE BOY WHO LIVED \\n\\nMr. and Mrs. Dursley, of n\""
      ]
     },
     "execution_count": 3,
     "metadata": {},
     "output_type": "execute_result"
    }
   ],
   "source": [
    "books=loaddata(parameters.datapath, 1)\n",
    "books[:100]"
   ]
  },
  {
   "cell_type": "code",
   "execution_count": 4,
   "metadata": {},
   "outputs": [
    {
     "data": {
      "text/plain": [
       "\"Harry Potter and the Sorcerer's Stone \\n\\nCHAPTER ONE \\n\\nTHE BOY WHO LIVED \\n\\nMr. and Mrs. Dursley, of number four\""
      ]
     },
     "execution_count": 4,
     "metadata": {},
     "output_type": "execute_result"
    }
   ],
   "source": [
    "text=remove_impuritys(books)\n",
    "books[:110]"
   ]
  },
  {
   "cell_type": "code",
   "execution_count": 5,
   "metadata": {},
   "outputs": [],
   "source": [
    "characters = sorted(list(set(text)))\n",
    "n_to_char = {n:char for n, char in enumerate(characters)}\n",
    "char_to_n = {char:n for n, char in enumerate(characters)}"
   ]
  },
  {
   "cell_type": "code",
   "execution_count": 6,
   "metadata": {},
   "outputs": [],
   "source": [
    "X = []\n",
    "Y = []\n",
    "length = len(text)\n",
    "seq_length = 100\n",
    "for i in range(0, length-seq_length, 1):\n",
    "    sequence = text[i:i + seq_length]\n",
    "    label =text[i + seq_length]\n",
    "    X.append([char_to_n[char] for char in sequence])\n",
    "    Y.append(char_to_n[label])"
   ]
  },
  {
   "cell_type": "code",
   "execution_count": 7,
   "metadata": {},
   "outputs": [],
   "source": [
    "X_modified = np.reshape(X, (len(X), seq_length, 1))\n",
    "X_modified = X_modified / float(len(characters))\n",
    "Y_modified = np_utils.to_categorical(Y)"
   ]
  },
  {
   "cell_type": "code",
   "execution_count": 8,
   "metadata": {},
   "outputs": [
    {
     "name": "stdout",
     "output_type": "stream",
     "text": [
      "_________________________________________________________________\n",
      "Layer (type)                 Output Shape              Param #   \n",
      "=================================================================\n",
      "lstm_1 (LSTM)                (None, 100, 700)          1965600   \n",
      "_________________________________________________________________\n",
      "dropout_1 (Dropout)          (None, 100, 700)          0         \n",
      "_________________________________________________________________\n",
      "lstm_2 (LSTM)                (None, 100, 700)          3922800   \n",
      "_________________________________________________________________\n",
      "lstm_3 (LSTM)                (None, 100, 700)          3922800   \n",
      "_________________________________________________________________\n",
      "lstm_4 (LSTM)                (None, 100, 700)          3922800   \n",
      "_________________________________________________________________\n",
      "lstm_5 (LSTM)                (None, 700)               3922800   \n",
      "_________________________________________________________________\n",
      "dropout_2 (Dropout)          (None, 700)               0         \n",
      "_________________________________________________________________\n",
      "dense_1 (Dense)              (None, 128)               89728     \n",
      "_________________________________________________________________\n",
      "dense_2 (Dense)              (None, 64)                8256      \n",
      "_________________________________________________________________\n",
      "dense_3 (Dense)              (None, 53)                3445      \n",
      "=================================================================\n",
      "Total params: 17,758,229\n",
      "Trainable params: 17,758,229\n",
      "Non-trainable params: 0\n",
      "_________________________________________________________________\n"
     ]
    }
   ],
   "source": [
    "from keras.models import Sequential\n",
    "from keras.layers import *\n",
    "\n",
    "# define the LSTM model\n",
    "model = Sequential()\n",
    "model.add(LSTM(700, input_shape=X_modified[0].shape,return_sequences=True))\n",
    "model.add(Dropout(0.2))\n",
    "model.add(LSTM(700,return_sequences=True))\n",
    "model.add(LSTM(700,return_sequences=True))\n",
    "model.add(LSTM(700,return_sequences=True))\n",
    "model.add(LSTM(700))\n",
    "model.add(Dropout(0.2))\n",
    "model.add(Dense(128))\n",
    "model.add(Dense(64))\n",
    "model.add(Dense(Y_modified.shape[1], activation='softmax'))\n",
    "model.compile(loss='categorical_crossentropy', optimizer='adam')\n",
    "model.summary()"
   ]
  },
  {
   "cell_type": "code",
   "execution_count": 9,
   "metadata": {},
   "outputs": [],
   "source": [
    "x_train=X_modified[:int(len(X_modified)*0.8)]\n",
    "y_train=Y_modified[:int(len(Y_modified)*0.8)]\n",
    "x_test=X_modified[int(len(X_modified)*0.8):]\n",
    "y_test=Y_modified[int(len(Y_modified)*0.8):]"
   ]
  },
  {
   "cell_type": "code",
   "execution_count": 10,
   "metadata": {},
   "outputs": [
    {
     "name": "stdout",
     "output_type": "stream",
     "text": [
      "Train on 314337 samples, validate on 34927 samples\n",
      "Epoch 1/15\n",
      "314337/314337 [==============================] - 4341s 14ms/step - loss: 3.0561 - val_loss: 2.9962\n",
      "Epoch 2/15\n",
      "314337/314337 [==============================] - 4340s 14ms/step - loss: 3.0029 - val_loss: 2.9976\n",
      "Epoch 3/15\n",
      "314337/314337 [==============================] - 4352s 14ms/step - loss: 3.0000 - val_loss: 2.9959\n",
      "Epoch 4/15\n",
      "314337/314337 [==============================] - 4432s 14ms/step - loss: 2.9982 - val_loss: 2.9907\n",
      "Epoch 5/15\n",
      "314337/314337 [==============================] - 4404s 14ms/step - loss: 2.9970 - val_loss: 2.9917\n",
      "Epoch 6/15\n",
      "314337/314337 [==============================] - 4378s 14ms/step - loss: 2.9964 - val_loss: 2.9919\n",
      "Epoch 7/15\n",
      "314337/314337 [==============================] - 4372s 14ms/step - loss: 2.9959 - val_loss: 2.9900\n",
      "Epoch 8/15\n",
      "314337/314337 [==============================] - 4362s 14ms/step - loss: 2.9956 - val_loss: 2.9916\n",
      "Epoch 9/15\n",
      "314337/314337 [==============================] - 4373s 14ms/step - loss: 2.9954 - val_loss: 2.9930\n",
      "Epoch 10/15\n",
      "314337/314337 [==============================] - 4377s 14ms/step - loss: 2.9951 - val_loss: 2.9911\n",
      "Epoch 11/15\n",
      "314337/314337 [==============================] - 4396s 14ms/step - loss: 2.9950 - val_loss: 2.9904\n",
      "Epoch 12/15\n",
      "314337/314337 [==============================] - 4378s 14ms/step - loss: 2.9950 - val_loss: 2.9926\n",
      "Epoch 13/15\n",
      "314337/314337 [==============================] - 4377s 14ms/step - loss: 2.9948 - val_loss: 2.9914\n",
      "Epoch 14/15\n",
      "314337/314337 [==============================] - 4373s 14ms/step - loss: 2.9947 - val_loss: 2.9939\n",
      "Epoch 15/15\n",
      "314337/314337 [==============================] - 4379s 14ms/step - loss: 2.9946 - val_loss: 2.9907\n"
     ]
    }
   ],
   "source": [
    "model.fit(x_train, y_train, epochs=15, batch_size=125, validation_split=0.1)\n",
    "model.save('my_model.h5')"
   ]
  },
  {
   "cell_type": "code",
   "execution_count": null,
   "metadata": {
    "scrolled": true
   },
   "outputs": [],
   "source": [
    "predict_text(model, X[99])"
   ]
  },
  {
   "cell_type": "code",
   "execution_count": null,
   "metadata": {},
   "outputs": [],
   "source": []
  }
 ],
 "metadata": {
  "kernelspec": {
   "display_name": "Python 3",
   "language": "python",
   "name": "python3"
  },
  "language_info": {
   "codemirror_mode": {
    "name": "ipython",
    "version": 3
   },
   "file_extension": ".py",
   "mimetype": "text/x-python",
   "name": "python",
   "nbconvert_exporter": "python",
   "pygments_lexer": "ipython3",
   "version": "3.6.5"
  }
 },
 "nbformat": 4,
 "nbformat_minor": 2
}
